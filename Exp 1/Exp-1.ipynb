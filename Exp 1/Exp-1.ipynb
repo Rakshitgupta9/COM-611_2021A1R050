{
 "cells": [
  {
   "cell_type": "code",
   "execution_count": 1,
   "id": "a39c7b1e-7f71-4692-87a2-66958423161d",
   "metadata": {},
   "outputs": [],
   "source": [
    "import csv\n",
    "num_attributes = 6\n",
    "a = []"
   ]
  },
  {
   "cell_type": "code",
   "execution_count": 2,
   "id": "6498dda4-3605-4e67-86e3-d6a95206e5d3",
   "metadata": {},
   "outputs": [
    {
     "name": "stdout",
     "output_type": "stream",
     "text": [
      "\n",
      " The Given Training Data Set \n",
      "\n",
      "['sky', 'airtemp', 'humidity', 'wind', 'water', 'forcast', 'enjoysport']\n",
      "['sunny', 'warm', 'normal', 'strong', 'warm', 'same', 'yes']\n",
      "['sunny', 'warm', 'high', 'strong', 'warm', 'same', 'yes']\n",
      "['rainy', 'cold', 'high', 'strong', 'warm', 'change', 'no']\n",
      "['sunny', 'warm', 'high', 'strong', 'cool', 'change', 'yes']\n"
     ]
    }
   ],
   "source": [
    "print(\"\\n The Given Training Data Set \\n\")\n",
    "with open('trained_data.csv', 'r') as csvfile:\n",
    "    reader = csv.reader(csvfile)\n",
    "    for row in reader:\n",
    "        a.append(row)\n",
    "        print(row)"
   ]
  },
  {
   "cell_type": "code",
   "execution_count": 3,
   "id": "f1b8442c-d6a4-4734-aeab-b46e3f8a3945",
   "metadata": {},
   "outputs": [
    {
     "name": "stdout",
     "output_type": "stream",
     "text": [
      "\n",
      " The initial value of hypothesis: \n",
      "['0', '0', '0', '0', '0', '0']\n"
     ]
    }
   ],
   "source": [
    "print(\"\\n The initial value of hypothesis: \")\n",
    "hypothesis = ['0'] * num_attributes\n",
    "print(hypothesis)"
   ]
  },
  {
   "cell_type": "code",
   "execution_count": 4,
   "id": "ec0cdab2-e457-4182-a6eb-5ed6d08b4cba",
   "metadata": {},
   "outputs": [
    {
     "name": "stdout",
     "output_type": "stream",
     "text": [
      "\n",
      " Find S: Finding a Maximally Specific Hypothesis\n",
      "\n",
      " For Training instance No:1 the hypothesis is\n",
      " ['sunny', 'warm', 'normal', 'strong', 'warm', 'same']\n",
      " For Training instance No:2 the hypothesis is\n",
      " ['sunny', 'warm', '?', 'strong', 'warm', 'same']\n",
      " For Training instance No:4 the hypothesis is\n",
      " ['sunny', 'warm', '?', 'strong', '?', '?']\n"
     ]
    }
   ],
   "source": [
    "print(\"\\n Find S: Finding a Maximally Specific Hypothesis\\n\")\n",
    "\n",
    "for i in range(0, len(a)):\n",
    "    if a[i][num_attributes] == 'yes':\n",
    "        for j in range(0, num_attributes):\n",
    "            if hypothesis[j] == '0' or hypothesis[j] == a[i][j]:\n",
    "                hypothesis[j] = a[i][j]\n",
    "            else:\n",
    "                hypothesis[j] = '?'\n",
    "        print(\" For Training instance No:{0} the hypothesis is\\n\".format(i), hypothesis)\n"
   ]
  },
  {
   "cell_type": "code",
   "execution_count": 5,
   "id": "26433726-73cc-475a-a991-4082a2899131",
   "metadata": {},
   "outputs": [
    {
     "name": "stdout",
     "output_type": "stream",
     "text": [
      "\n",
      " The Maximally Specific Hypothesis for a given Training Examples :\n",
      "\n",
      "['sunny', 'warm', '?', 'strong', '?', '?']\n"
     ]
    }
   ],
   "source": [
    "print(\"\\n The Maximally Specific Hypothesis for a given Training Examples :\\n\")\n",
    "print(hypothesis)"
   ]
  },
  {
   "cell_type": "code",
   "execution_count": null,
   "id": "93110c5b-b2c5-48c7-a263-abc8225392dc",
   "metadata": {},
   "outputs": [],
   "source": []
  }
 ],
 "metadata": {
  "kernelspec": {
   "display_name": "Python 3 (ipykernel)",
   "language": "python",
   "name": "python3"
  },
  "language_info": {
   "codemirror_mode": {
    "name": "ipython",
    "version": 3
   },
   "file_extension": ".py",
   "mimetype": "text/x-python",
   "name": "python",
   "nbconvert_exporter": "python",
   "pygments_lexer": "ipython3",
   "version": "3.11.2"
  }
 },
 "nbformat": 4,
 "nbformat_minor": 5
}
