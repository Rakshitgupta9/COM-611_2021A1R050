{
 "cells": [
  {
   "cell_type": "markdown",
   "id": "e438ded1",
   "metadata": {},
   "source": [
    "# Implement the web scrapping on Amazon website or any shopping site by importing the requests and the Beautiful Soup"
   ]
  },
  {
   "cell_type": "markdown",
   "id": "d276bb52",
   "metadata": {},
   "source": [
    "Two Python libraries: Beautiful Soup and requests\n",
    "    \n",
    "    1. BeautifulSoup is a part of bs4 model. It is used for parsing HTML and XML documents.\n",
    "    2. requests is a library used for sending HTTP requests in Python.\n",
    "    "
   ]
  },
  {
   "cell_type": "code",
   "execution_count": 8,
   "id": "63476d6c",
   "metadata": {},
   "outputs": [
    {
     "name": "stdout",
     "output_type": "stream",
     "text": [
      "Product Title= Bergmann Stunner Car Vacuum Cleaner | 150W Powerful Suction | Stainless Steel Lifelong HEPA Filter | Sleek Mirror Finish Body | 100% Copper Motor | 5m Power Cord | 3 Attachments + Storage Bag | Black\n",
      "Product Price= ₹1,614.53\n",
      "Product Rating= 3.8 out of 5 stars\n",
      "Number of Product reviews= 7,070 ratings\n",
      "Availabiity= In stock\n"
     ]
    }
   ],
   "source": [
    "from bs4 import BeautifulSoup\n",
    "import requests\n",
    "\n",
    "# Function to extract Product Title\n",
    "def get_title(soup):\n",
    "    try:\n",
    "        title= soup.find(\"span\", attrs={\"id\":\"productTitle\"})\n",
    "        title_string=title.get_text(strip=True)\n",
    "    except AttributeError:\n",
    "        title_string=\"\"\n",
    "    return title_string\n",
    "# Function to extract Product Price\n",
    "def get_price(soup):\n",
    "    try:\n",
    "        price=soup.find(\"span\",attrs={\"class\":\"a-offscreen\"})\n",
    "        if price is not None:\n",
    "            price_string=price.get_text(strip=True)\n",
    "        else:\n",
    "            price_string=\"\"\n",
    "    except AttributeError:\n",
    "        price_string=\"\"\n",
    "    return price_string\n",
    "# Function to extract Product Rating\n",
    "def get_rating(soup):\n",
    "    try:\n",
    "        rating=soup.find(\"span\",attrs={\"class\":\"a-icon-alt\"})\n",
    "        if rating is not None:\n",
    "            rating_string=rating.get_text(strip=True)\n",
    "        else:\n",
    "            rating_string=\"\"\n",
    "    except AttributeError:\n",
    "        rating_string=\"\"\n",
    "    return rating_string\n",
    "# Function to extract Number of User Reviews\n",
    "def get_review_count(soup):\n",
    "    try:\n",
    "        review_count=soup.find(\"span\",attrs={\"id\":\"acrCustomerReviewText\"})\n",
    "        if review_count is not None:\n",
    "            review_count_string=review_count.get_text(strip=True)\n",
    "        else:\n",
    "            review_count_string=\"\"\n",
    "    except AttributeError:\n",
    "        review_count_string=\"\"\n",
    "    return review_count_string\n",
    "# Function to extract Availability Status\n",
    "def get_availability(soup):\n",
    "    try:\n",
    "        availability=soup.find(\"div\",attrs={\"id\":\"availability\"})\n",
    "        if availability is not None:\n",
    "            availability_string=availability.get_text(strip=True)\n",
    "        else:\n",
    "            availability_string=\"\"\n",
    "    except AttributeError:\n",
    "        availability_string=\"\"\n",
    "    return availability_string\n",
    "\n",
    "if __name__==\"__main__\":\n",
    "    #     headers for request\n",
    "    headers={\n",
    "        \"User-Agent\":\"Mozilla/5.0 (X11; Linux x86_64) AppleWebKit/537.36 (KHTML, like Gecko) Chrome/58.0.3029.110 Safari/537.36\",\n",
    "        \"Accept-Language\":\"en-US,en;q=0.5\"\n",
    "    }\n",
    "    url=\"https://www.amazon.in/Bergmann-Stunner-Vacuum-Cleaner-Black/dp/B07HDXYKHL/ref=sr_1_11?_encoding=UTF8&content-id=amzn1.sym.9ff36f11-82d6-4600-a8fb-e52bb32e171c&dib=eyJ2IjoiMSJ9.fYRxgyfuvSjY6PU4FnAgr7SrZ5_54dRlvMWHU-YodcG-u3tSGJyu3BIdjo82yY45AdA4EEehVokJ-2f9IqRphpuhC8riQ9PnBvg6aQNn_rDypFxtfBbJtMlCYL8v__eG_y5GdrcT4DGc8sILHT8TZJKZM_2k9KP9Loids65_CWMINFLH0zvU5-XPilw-QbJXemw0WoM8HcAnigZlA6JCwBiNGzNsb1XbC561XS8zpvE5CgP6GtkCjJp7bB_efSgBAzIfLa8fMfRqEo5tBUi-R6qYpmmnq3K3b7hc9RSxs34.68o-1NKLuzWhxhoOtxr6JZBTL2SDfkf5FIJyB9tzOLc&dib_tag=se&pd_rd_r=96c91f0c-ec65-43a3-afd6-37915f1d3bcf&pd_rd_w=a2WmG&pd_rd_wg=jd05B&pf_rd_p=9ff36f11-82d6-4600-a8fb-e52bb32e171c&pf_rd_r=PFH8W5NTGAEDQH2WRF57&qid=1714379011&refinements=p_72%3A1318477031&s=automotive&sr=1-11\"\n",
    "#   Http Request\n",
    "    webpage=requests.get(url, headers=headers)\n",
    "#     Soup Object containing all data\n",
    "    soup=BeautifulSoup(webpage.content,\"html.parser\")\n",
    "    #Function calls to display all necessary product information\n",
    "    print(\"Product Title=\",get_title(soup))\n",
    "    print(\"Product Price=\", get_price(soup))\n",
    "    print(\"Product Rating=\",get_rating(soup))\n",
    "    print(\"Number of Product reviews=\",get_review_count(soup))\n",
    "    print(\"Availabiity=\",get_availability(soup))"
   ]
  },
  {
   "cell_type": "code",
   "execution_count": null,
   "id": "1ad5a567",
   "metadata": {},
   "outputs": [],
   "source": []
  }
 ],
 "metadata": {
  "kernelspec": {
   "display_name": "Python 3 (ipykernel)",
   "language": "python",
   "name": "python3"
  },
  "language_info": {
   "codemirror_mode": {
    "name": "ipython",
    "version": 3
   },
   "file_extension": ".py",
   "mimetype": "text/x-python",
   "name": "python",
   "nbconvert_exporter": "python",
   "pygments_lexer": "ipython3",
   "version": "3.9.13"
  }
 },
 "nbformat": 4,
 "nbformat_minor": 5
}
