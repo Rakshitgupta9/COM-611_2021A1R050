{
 "cells": [
  {
   "cell_type": "code",
   "execution_count": 43,
   "id": "162d8037",
   "metadata": {},
   "outputs": [],
   "source": [
    "import numpy as np\n",
    "import pandas as pd"
   ]
  },
  {
   "cell_type": "code",
   "execution_count": 44,
   "id": "b6f01741",
   "metadata": {},
   "outputs": [
    {
     "name": "stdout",
     "output_type": "stream",
     "text": [
      "    size color     shape class\n",
      "0    big   red    circle   Yes\n",
      "1  small   red  triangle    No\n",
      "2  small   red    circle   Yes\n",
      "3    big  blue    circle    No\n",
      "4  small  blue    circle   Yes\n"
     ]
    }
   ],
   "source": [
    "data=pd.DataFrame(data=pd.read_csv(r\"data.csv\"))\n",
    "print(data)"
   ]
  },
  {
   "cell_type": "code",
   "execution_count": 45,
   "id": "e9bcbcf1",
   "metadata": {},
   "outputs": [
    {
     "name": "stdout",
     "output_type": "stream",
     "text": [
      "[['big' 'red' 'circle']\n",
      " ['small' 'red' 'triangle']\n",
      " ['small' 'red' 'circle']\n",
      " ['big' 'blue' 'circle']\n",
      " ['small' 'blue' 'circle']]\n"
     ]
    }
   ],
   "source": [
    "concepts=np.array(data.iloc[:,0:-1])\n",
    "print(concepts)"
   ]
  },
  {
   "cell_type": "code",
   "execution_count": 46,
   "id": "4fb3a87a",
   "metadata": {},
   "outputs": [
    {
     "name": "stdout",
     "output_type": "stream",
     "text": [
      "['Yes' 'No' 'Yes' 'No' 'Yes']\n"
     ]
    }
   ],
   "source": [
    "target=np.array(data.iloc[:,-1])\n",
    "print(target)"
   ]
  },
  {
   "cell_type": "code",
   "execution_count": 59,
   "id": "adf6ae6d",
   "metadata": {},
   "outputs": [],
   "source": [
    "def learn(concepts,target):\n",
    "    specific_h=concepts[0].copy()\n",
    "    print(\"\\n Initialization of specific_h and general_h\")\n",
    "    print(specific_h)\n",
    "    \n",
    "    general_h=[[\"?\"for i in range(len(specific_h))] for i in range(len(specific_h))]\n",
    "    print(general_h)\n",
    "    for i, h in enumerate(concepts):\n",
    "        if target[i] =='Yes':\n",
    "            for x in range(len(specific_h)):\n",
    "                if h[x] != specific_h[x]:\n",
    "                    specific_h[x]=\"?\"\n",
    "                    general_h[x][x]=\"?\"\n",
    "                    \n",
    "        if target[i]==\"No\":\n",
    "            for x in range(len(specific_h)):\n",
    "                if h[x] != specific_h[x]:\n",
    "                    general_h[x][x]=specific_h[x]\n",
    "                else:\n",
    "                    general_h[x][x]=\"?\"\n",
    "                    \n",
    "        print(\"\\n Steps of Candidate Elimination Algorithm\",i+1)\n",
    "        print(specific_h)\n",
    "        print(general_h)\n",
    "        \n",
    "    indices=[i for i, val in enumerate(general_h) if val==['?','?','?','?','?','?']]\n",
    "    for i in indices:\n",
    "        general_h.remove(['?','?','?','?','?','?'])\n",
    "    return specific_h,general_h"
   ]
  },
  {
   "cell_type": "code",
   "execution_count": 60,
   "id": "2fe537a5",
   "metadata": {},
   "outputs": [
    {
     "name": "stdout",
     "output_type": "stream",
     "text": [
      "\n",
      " Initialization of specific_h and general_h\n",
      "['big' 'red' 'circle']\n",
      "[['?', '?', '?'], ['?', '?', '?'], ['?', '?', '?']]\n",
      "\n",
      " Steps of Candidate Elimination Algorithm 1\n",
      "['big' 'red' 'circle']\n",
      "[['?', '?', '?'], ['?', '?', '?'], ['?', '?', '?']]\n",
      "\n",
      " Steps of Candidate Elimination Algorithm 2\n",
      "['big' 'red' 'circle']\n",
      "[['big', '?', '?'], ['?', '?', '?'], ['?', '?', 'circle']]\n",
      "\n",
      " Steps of Candidate Elimination Algorithm 3\n",
      "['?' 'red' 'circle']\n",
      "[['?', '?', '?'], ['?', '?', '?'], ['?', '?', 'circle']]\n",
      "\n",
      " Steps of Candidate Elimination Algorithm 4\n",
      "['?' 'red' 'circle']\n",
      "[['?', '?', '?'], ['?', 'red', '?'], ['?', '?', '?']]\n",
      "\n",
      " Steps of Candidate Elimination Algorithm 5\n",
      "['?' '?' 'circle']\n",
      "[['?', '?', '?'], ['?', '?', '?'], ['?', '?', '?']]\n",
      "\n",
      " final specific_h:\n",
      "['?' '?' 'circle']\n",
      "\n",
      "Final general_h:\n",
      "[['?', '?', '?'], ['?', '?', '?'], ['?', '?', '?']]\n"
     ]
    }
   ],
   "source": [
    "s_final, g_final =learn(concepts,target)\n",
    "print(\"\\n final specific_h:\", s_final, sep=\"\\n\")\n",
    "print(\"\\nFinal general_h:\", g_final, sep=\"\\n\")"
   ]
  },
  {
   "cell_type": "code",
   "execution_count": null,
   "id": "95f1cbe4-2dc3-4893-be8b-2134d74d561f",
   "metadata": {},
   "outputs": [],
   "source": []
  }
 ],
 "metadata": {
  "kernelspec": {
   "display_name": "Python 3 (ipykernel)",
   "language": "python",
   "name": "python3"
  },
  "language_info": {
   "codemirror_mode": {
    "name": "ipython",
    "version": 3
   },
   "file_extension": ".py",
   "mimetype": "text/x-python",
   "name": "python",
   "nbconvert_exporter": "python",
   "pygments_lexer": "ipython3",
   "version": "3.11.2"
  }
 },
 "nbformat": 4,
 "nbformat_minor": 5
}
