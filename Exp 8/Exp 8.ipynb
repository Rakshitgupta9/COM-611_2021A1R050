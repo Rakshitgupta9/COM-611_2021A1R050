{
 "cells": [
  {
   "cell_type": "markdown",
   "id": "bfe4ffcf-6edf-4905-9eb0-076b60dd3372",
   "metadata": {},
   "source": [
    "# Implement the Image Processing basics: Converting Image to RGB to BGR and to Grayscale, create a White / Black Color Image, how to draw shapes on image"
   ]
  },
  {
   "cell_type": "code",
   "execution_count": 1,
   "id": "6f8537bc-b912-4027-b2f2-794cb9a6255f",
   "metadata": {},
   "outputs": [],
   "source": [
    "import cv2\n",
    "import numpy as np"
   ]
  },
  {
   "cell_type": "code",
   "execution_count": 2,
   "id": "efb5c53b-7bb0-42b3-8c84-d30db7d33887",
   "metadata": {},
   "outputs": [],
   "source": [
    "def convert_to_grayscale(image_path):\n",
    "    # load the image\n",
    "    image = cv2.imread(image_path)\n",
    "    \n",
    "    # Convert the image to grayscale\n",
    "    grayscale_image = cv2.cvtColor(image, cv2.COLOR_BGR2GRAY)\n",
    "    \n",
    "    # Display the original and grayscale\n",
    "    cv2.imshow(\"Original Image\", image)\n",
    "    cv2.imshow(\"Grayscale Image\", grayscale_image)\n",
    "    cv2.waitKey(0)\n",
    "    cv2.destroyAllWindows()"
   ]
  },
  {
   "cell_type": "code",
   "execution_count": 3,
   "id": "25ce7fbb-a7a1-4ad7-9e37-f42c244c7521",
   "metadata": {},
   "outputs": [],
   "source": [
    "def convert_to_bgr(image_path, output_path):\n",
    "    # load the image\n",
    "    image= cv2.imread(image_path)\n",
    "\n",
    "    #convert image to bgr color\n",
    "    bgr_image= cv2.cvtColor(image, cv2.COLOR_RGB2GRAY)\n",
    "\n",
    "    # Display the orig and grayscale images\n",
    "    cv2.imshow(\"Original Image\",image)\n",
    "    cv2.imshow(\"Grayscale Image\", bgr_image)\n",
    "    cv2.waitKey(0)\n",
    "    cv2.destroyAllWindows()\n",
    "\n",
    "    # save the bgr image\n",
    "    cv2.imwrite(output_path, bgr_image)\n",
    "    print(\"BGR image saved as\", output_path)"
   ]
  },
  {
   "cell_type": "markdown",
   "id": "086a014a-44bb-4bd1-8823-f6aa06a3678b",
   "metadata": {},
   "source": [
    "# In this code the convert_bgr_to_rgb function takes an image in BGR color space (image_bgr) and convert it to RGB color space using cv2.cvtcolor with the cv2.color_bgr2rgb flag. It then displays both the original BGR image and the converted RGB image. "
   ]
  },
  {
   "cell_type": "code",
   "execution_count": 4,
   "id": "978ea670-72fd-437a-bc64-605bae4aa4a2",
   "metadata": {},
   "outputs": [],
   "source": [
    "def convert_bgr_to_rgb(output_path):\n",
    "    # load the image\n",
    "    image_bgr= cv2.imread(output_path)\n",
    "\n",
    "    #convert image to bgr color\n",
    "    image_rgb= cv2.cvtColor(image_bgr, cv2.COLOR_BGR2RGB)\n",
    "\n",
    "    # Display the orig and grayscale images\n",
    "    cv2.imshow(\"BGR Image\",image_bgr)\n",
    "    cv2.imshow(\"RGB Image\", image_rgb)\n",
    "    cv2.waitKey(0)\n",
    "    cv2.destroyAllWindows()"
   ]
  },
  {
   "cell_type": "code",
   "execution_count": 7,
   "id": "880b08a2-7862-4887-9002-fd1c7ff2efd8",
   "metadata": {},
   "outputs": [],
   "source": [
    "image_path=\"download.jpeg\"\n",
    "output_path=\"output.jpg\""
   ]
  },
  {
   "cell_type": "code",
   "execution_count": 8,
   "id": "1df908ff-baa2-48d6-94b6-899bbe79ca35",
   "metadata": {},
   "outputs": [],
   "source": [
    "convert_to_grayscale(image_path)"
   ]
  },
  {
   "cell_type": "code",
   "execution_count": 9,
   "id": "608e1c9e-2265-43ac-8f21-f01f270be811",
   "metadata": {},
   "outputs": [
    {
     "name": "stdout",
     "output_type": "stream",
     "text": [
      "BGR image saved as output.jpg\n"
     ]
    }
   ],
   "source": [
    "convert_to_bgr(image_path, output_path)\n"
   ]
  },
  {
   "cell_type": "code",
   "execution_count": 10,
   "id": "34d7b4ac-a6ba-41bd-804b-9322f20af0ec",
   "metadata": {},
   "outputs": [],
   "source": [
    "convert_bgr_to_rgb(output_path)"
   ]
  },
  {
   "cell_type": "code",
   "execution_count": 11,
   "id": "889fed36-f2cb-414e-8bad-7ec71c70fc7f",
   "metadata": {},
   "outputs": [],
   "source": [
    "def create_white_image(width, height):\n",
    "    white_image= np.ones((height,width,3), dtype=np.uint8) * 255\n",
    "\n",
    "    cv2.imshow(\"White Image\", white_image)\n",
    "    cv2.waitKey(0)\n",
    "    cv2.destroyAllWindows()"
   ]
  },
  {
   "cell_type": "code",
   "execution_count": 12,
   "id": "78acdd80-f2a8-4760-acb4-05aabf069914",
   "metadata": {},
   "outputs": [],
   "source": [
    "def create_black_image(width, height):\n",
    "    black_image= np.ones((height,width,3), dtype=np.uint8) \n",
    "\n",
    "    cv2.imshow(\"Black Image\", black_image)\n",
    "    cv2.waitKey(0)\n",
    "    cv2.destroyAllWindows()"
   ]
  },
  {
   "cell_type": "code",
   "execution_count": 13,
   "id": "f8d2c470-9e29-4fe2-8b0b-034c4638e7bf",
   "metadata": {},
   "outputs": [],
   "source": [
    "def draw_shapes_on_image(image_path):\n",
    "    #Load the image\n",
    "    image=cv2.imread(image_path)\n",
    "    \n",
    "    #Draw a rectangle on the image\n",
    "    cv2.rectangle(image, (50,50), (200,200), (0,255,0), 2)\n",
    "    \n",
    "    #Draw a circle on the image\n",
    "    cv2.circle(image, (300,150), 100, (0, 0, 255), 2)\n",
    "    \n",
    "    #Draw a line on the image\n",
    "    cv2.line(image, (400, 50), (400,250), (255,0,0), 2)\n",
    "    \n",
    "    # Display the image with shapes\n",
    "    cv2.imshow(\"Image with Shapes\", image)\n",
    "    cv2.waitKey(0)\n",
    "    cv2.destroyAllWindows()"
   ]
  },
  {
   "cell_type": "code",
   "execution_count": 14,
   "id": "8675b820",
   "metadata": {},
   "outputs": [],
   "source": [
    "width, height= 800, 600"
   ]
  },
  {
   "cell_type": "code",
   "execution_count": 15,
   "id": "8e1bd00f",
   "metadata": {},
   "outputs": [],
   "source": [
    "create_white_image(width, height)"
   ]
  },
  {
   "cell_type": "code",
   "execution_count": 16,
   "id": "7553dc16",
   "metadata": {},
   "outputs": [],
   "source": [
    "create_black_image(width, height)"
   ]
  },
  {
   "cell_type": "code",
   "execution_count": 17,
   "id": "53131a99",
   "metadata": {},
   "outputs": [],
   "source": [
    "#Draw shapes on an image\n",
    "image_path= \"download.jpeg\"\n",
    "draw_shapes_on_image(image_path)"
   ]
  },
  {
   "cell_type": "code",
   "execution_count": null,
   "id": "c8b8fcd3",
   "metadata": {},
   "outputs": [],
   "source": []
  },
  {
   "cell_type": "code",
   "execution_count": null,
   "id": "e0994c49-8c12-4456-ac83-b347f1f6abde",
   "metadata": {},
   "outputs": [],
   "source": []
  }
 ],
 "metadata": {
  "kernelspec": {
   "display_name": "Python 3 (ipykernel)",
   "language": "python",
   "name": "python3"
  },
  "language_info": {
   "codemirror_mode": {
    "name": "ipython",
    "version": 3
   },
   "file_extension": ".py",
   "mimetype": "text/x-python",
   "name": "python",
   "nbconvert_exporter": "python",
   "pygments_lexer": "ipython3",
   "version": "3.12.2"
  }
 },
 "nbformat": 4,
 "nbformat_minor": 5
}
